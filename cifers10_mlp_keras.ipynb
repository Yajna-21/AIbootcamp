{
 "cells": [
  {
   "cell_type": "code",
   "execution_count": 14,
   "id": "e44f7b49",
   "metadata": {},
   "outputs": [],
   "source": [
    "import numpy as np\n",
    "from keras.models import Sequential\n",
    "from keras.layers import Dense,Flatten\n",
    "from keras.datasets import cifar10\n",
    "from keras.utils import to_categorical\n",
    "from keras.optimizers import Adam\n",
    "import matplotlib.pyplot as plt\n"
   ]
  },
  {
   "cell_type": "code",
   "execution_count": 2,
   "id": "2d949741",
   "metadata": {},
   "outputs": [],
   "source": [
    "(x_train,y_train),(x_test,y_test)=cifar10.load_data()"
   ]
  },
  {
   "cell_type": "code",
   "execution_count": null,
   "id": "a3ef5c3b",
   "metadata": {},
   "outputs": [],
   "source": [
    "#normalize\n",
    "x_train=x_train.astype('float32')/255.0\n",
    "x_test=x_test.astype('float32')/255.0"
   ]
  },
  {
   "cell_type": "code",
   "execution_count": null,
   "id": "1897407a",
   "metadata": {},
   "outputs": [
    {
     "name": "stdout",
     "output_type": "stream",
     "text": [
      "before:label is:[0.03137255]\n",
      "after:label is:[1.]\n"
     ]
    }
   ],
   "source": [
    "print(f\"before:label is:{y_train[100]}\")\n",
    "y_train = to_categorical(y_train)\n",
    "print(f\"after:label is:{y_train[100]}\")\n",
    "y_test=to_categorical(y_test)"
   ]
  },
  {
   "cell_type": "markdown",
   "id": "6f2b026b",
   "metadata": {},
   "source": [
    "#architecture\n",
    "model=Sequential()\n",
    "model.add(Flatten(input_shape=(28,28)))\n",
    "model.add(Dense(128,activation='relu'))  #128 neurons\n",
    "model.add(Dense(10,'softmax'))\n",
    "import numpy as np\n",
    "from keras.models import Sequential\n",
    "from keras.layers import Dense, Flatten\n",
    "from keras.datasets import mnist\n",
    "from keras.utils import to_categorical\n",
    "import matplotlib.pyplot as plt\n",
    "\n",
    "# load the data\n",
    "(x_train,y_train),(x_test,y_test)=mnist.load_data()\n",
    "print(x_train.dtype)\n",
    "print(x_train.shape)\n",
    "print(y_test.shape)\n",
    "print(x_train[0])\n",
    "#plt.imshow(x_train[0])\n",
    "#plt.show()\n",
    "print(\"**************\")\n",
    "print(f\"label is : {y_train[0]}\")\n",
    "\n",
    "# normalize\n",
    "x_train=x_train.astype('float32')/255.0\n",
    "x_test=x_test.astype('float32')/255.0\n",
    "\n",
    "#to_categorical\n",
    "print(f\"before:label is:{y_train[100]}\")\n",
    "y_train = to_categorical(y_train)\n",
    "print(f\"after:label is:{y_train[100]}\")\n",
    "y_test=to_categorical(y_test)\n",
    "\n",
    "#architecture\n",
    "model=Sequential()\n",
    "model.add(Flatten(input_shape=(28,28)))\n",
    "model.add(Dense(128,activation='relu'))  #128 neurons\n",
    "model.add(Dense(10,'softmax'))\n",
    "\n",
    "#compile the model\n",
    "model.compile(optimizer='adam',loss='categorical_crossentropy',metrics=['accuracy'])\n",
    "\n",
    "#train\n",
    "result=model.fit(x_train,y_train,epochs=10,batch_size=64,validation_split=0.2) #64 images\n",
    "\n",
    "# evaluate\n",
    "loss,accuracy=model.evaluate(x_test,y_test)\n",
    "print(f\"test loss:{loss}\")\n",
    "print(f\"test accuracy:{accuracy}\")\n",
    "print(result.history.keys())\n",
    "print(result.history.values())\n",
    "print(result.history)\n",
    "\n",
    "print('##########')\n",
    "\n",
    "#visualization\n",
    "plt.plot(result.history[\"accuracy\"],label=\"Training Accuracy\",color='blue')\n",
    "plt.plot(result.history['loss'],label=\"Training Loss\",color='orange')\n",
    "plt.title(\"Training accuracy vs Val_accuracy\")\n",
    "plt.xlabel(\"Epochs\")\n",
    "plt.ylabel(\"Accuracy\")\n",
    "plt.legend()\n",
    "plt.show()\n",
    "\n"
   ]
  },
  {
   "cell_type": "code",
   "execution_count": 20,
   "id": "8749d1e9",
   "metadata": {},
   "outputs": [
    {
     "name": "stderr",
     "output_type": "stream",
     "text": [
      "c:\\Day2AI\\ai_bootcamp\\lib\\site-packages\\keras\\src\\layers\\reshaping\\flatten.py:37: UserWarning: Do not pass an `input_shape`/`input_dim` argument to a layer. When using Sequential models, prefer using an `Input(shape)` object as the first layer in the model instead.\n",
      "  super().__init__(**kwargs)\n"
     ]
    }
   ],
   "source": [
    "#architecture\n",
    "model=Sequential()\n",
    "model.add(Flatten(input_shape=(32,32,3)))\n",
    "model.add(Dense(128,activation='relu'))  #128 neurons\n",
    "model.add(Dense(10,'softmax'))"
   ]
  },
  {
   "cell_type": "code",
   "execution_count": 21,
   "id": "18c33a87",
   "metadata": {},
   "outputs": [],
   "source": [
    "#compile \n",
    "model.compile(optimizer=Adam(learning_rate=0.01),loss='categorical_crossentropy',metrics=['accuracy'])"
   ]
  },
  {
   "cell_type": "code",
   "execution_count": 22,
   "id": "ede6a105",
   "metadata": {},
   "outputs": [
    {
     "name": "stdout",
     "output_type": "stream",
     "text": [
      "Epoch 1/10\n",
      "\u001b[1m625/625\u001b[0m \u001b[32m━━━━━━━━━━━━━━━━━━━━\u001b[0m\u001b[37m\u001b[0m \u001b[1m8s\u001b[0m 11ms/step - accuracy: 0.1491 - loss: 2.4498 - val_accuracy: 0.1664 - val_loss: 2.1435\n",
      "Epoch 2/10\n",
      "\u001b[1m625/625\u001b[0m \u001b[32m━━━━━━━━━━━━━━━━━━━━\u001b[0m\u001b[37m\u001b[0m \u001b[1m5s\u001b[0m 8ms/step - accuracy: 0.1683 - loss: 2.1026 - val_accuracy: 0.1815 - val_loss: 2.1030\n",
      "Epoch 3/10\n",
      "\u001b[1m625/625\u001b[0m \u001b[32m━━━━━━━━━━━━━━━━━━━━\u001b[0m\u001b[37m\u001b[0m \u001b[1m6s\u001b[0m 9ms/step - accuracy: 0.1743 - loss: 2.0900 - val_accuracy: 0.1724 - val_loss: 2.1361\n",
      "Epoch 4/10\n",
      "\u001b[1m625/625\u001b[0m \u001b[32m━━━━━━━━━━━━━━━━━━━━\u001b[0m\u001b[37m\u001b[0m \u001b[1m6s\u001b[0m 9ms/step - accuracy: 0.1732 - loss: 2.0937 - val_accuracy: 0.1707 - val_loss: 2.0805\n",
      "Epoch 5/10\n",
      "\u001b[1m625/625\u001b[0m \u001b[32m━━━━━━━━━━━━━━━━━━━━\u001b[0m\u001b[37m\u001b[0m \u001b[1m6s\u001b[0m 9ms/step - accuracy: 0.1740 - loss: 2.0876 - val_accuracy: 0.1797 - val_loss: 2.0978\n",
      "Epoch 6/10\n",
      "\u001b[1m625/625\u001b[0m \u001b[32m━━━━━━━━━━━━━━━━━━━━\u001b[0m\u001b[37m\u001b[0m \u001b[1m6s\u001b[0m 9ms/step - accuracy: 0.1773 - loss: 2.0839 - val_accuracy: 0.1779 - val_loss: 2.1246\n",
      "Epoch 7/10\n",
      "\u001b[1m625/625\u001b[0m \u001b[32m━━━━━━━━━━━━━━━━━━━━\u001b[0m\u001b[37m\u001b[0m \u001b[1m6s\u001b[0m 9ms/step - accuracy: 0.1723 - loss: 2.0837 - val_accuracy: 0.1851 - val_loss: 2.0763\n",
      "Epoch 8/10\n",
      "\u001b[1m625/625\u001b[0m \u001b[32m━━━━━━━━━━━━━━━━━━━━\u001b[0m\u001b[37m\u001b[0m \u001b[1m5s\u001b[0m 8ms/step - accuracy: 0.1769 - loss: 2.0775 - val_accuracy: 0.1788 - val_loss: 2.0832\n",
      "Epoch 9/10\n",
      "\u001b[1m625/625\u001b[0m \u001b[32m━━━━━━━━━━━━━━━━━━━━\u001b[0m\u001b[37m\u001b[0m \u001b[1m5s\u001b[0m 9ms/step - accuracy: 0.1767 - loss: 2.0819 - val_accuracy: 0.1839 - val_loss: 2.0723\n",
      "Epoch 10/10\n",
      "\u001b[1m625/625\u001b[0m \u001b[32m━━━━━━━━━━━━━━━━━━━━\u001b[0m\u001b[37m\u001b[0m \u001b[1m10s\u001b[0m 7ms/step - accuracy: 0.1774 - loss: 2.0693 - val_accuracy: 0.1812 - val_loss: 2.0755\n"
     ]
    }
   ],
   "source": [
    "#train \n",
    "result=model.fit(x_train,y_train,epochs=10,batch_size=64,validation_split=0.2)"
   ]
  },
  {
   "cell_type": "code",
   "execution_count": 23,
   "id": "623d0030",
   "metadata": {},
   "outputs": [
    {
     "name": "stdout",
     "output_type": "stream",
     "text": [
      "\u001b[1m313/313\u001b[0m \u001b[32m━━━━━━━━━━━━━━━━━━━━\u001b[0m\u001b[37m\u001b[0m \u001b[1m2s\u001b[0m 5ms/step - accuracy: 0.1858 - loss: 2.0630\n",
      "test loss:2.0630276203155518\n",
      "test accuracy:0.1858000010251999\n",
      "dict_keys(['accuracy', 'loss', 'val_accuracy', 'val_loss'])\n",
      "dict_values([[0.14910000562667847, 0.1683250069618225, 0.17430000007152557, 0.17315000295639038, 0.17402499914169312, 0.1773499995470047, 0.172325000166893, 0.17687499523162842, 0.17672500014305115, 0.17742499709129333], [2.449793815612793, 2.1025683879852295, 2.09004282951355, 2.093677043914795, 2.087616205215454, 2.083881378173828, 2.0837349891662598, 2.07745361328125, 2.0819249153137207, 2.069287061691284], [0.1664000004529953, 0.18150000274181366, 0.17239999771118164, 0.17069999873638153, 0.17970000207424164, 0.17790000140666962, 0.1851000040769577, 0.17880000174045563, 0.18389999866485596, 0.18119999766349792], [2.14349102973938, 2.1030170917510986, 2.1361474990844727, 2.0805246829986572, 2.097841739654541, 2.124567747116089, 2.076298713684082, 2.083216905593872, 2.072324514389038, 2.0755093097686768]])\n",
      "{'accuracy': [0.14910000562667847, 0.1683250069618225, 0.17430000007152557, 0.17315000295639038, 0.17402499914169312, 0.1773499995470047, 0.172325000166893, 0.17687499523162842, 0.17672500014305115, 0.17742499709129333], 'loss': [2.449793815612793, 2.1025683879852295, 2.09004282951355, 2.093677043914795, 2.087616205215454, 2.083881378173828, 2.0837349891662598, 2.07745361328125, 2.0819249153137207, 2.069287061691284], 'val_accuracy': [0.1664000004529953, 0.18150000274181366, 0.17239999771118164, 0.17069999873638153, 0.17970000207424164, 0.17790000140666962, 0.1851000040769577, 0.17880000174045563, 0.18389999866485596, 0.18119999766349792], 'val_loss': [2.14349102973938, 2.1030170917510986, 2.1361474990844727, 2.0805246829986572, 2.097841739654541, 2.124567747116089, 2.076298713684082, 2.083216905593872, 2.072324514389038, 2.0755093097686768]}\n",
      "##########\n"
     ]
    }
   ],
   "source": [
    "loss,accuracy=model.evaluate(x_test,y_test)\n",
    "print(f\"test loss:{loss}\")\n",
    "print(f\"test accuracy:{accuracy}\")\n",
    "print(result.history.keys())\n",
    "print(result.history.values())\n",
    "print(result.history)\n",
    "\n",
    "print('##########')"
   ]
  },
  {
   "cell_type": "code",
   "execution_count": 24,
   "id": "9d88784e",
   "metadata": {},
   "outputs": [
    {
     "data": {
      "image/png": "[encoded data removed]",
      "text/plain": [
       "<Figure size 640x480 with 1 Axes>"
      ]
     },
     "metadata": {},
     "output_type": "display_data"
    }
   ],
   "source": [
    "\n",
    "#visualization\n",
    "plt.plot(result.history[\"accuracy\"],label=\"Training Accuracy\",color='blue')\n",
    "plt.plot(result.history['loss'],label=\"Training Loss\",color='orange')\n",
    "plt.title(\"Training accuracy vs Val_accuracy\")\n",
    "plt.xlabel(\"Epochs\")\n",
    "plt.ylabel(\"Accuracy\")\n",
    "plt.legend()\n",
    "plt.show()"
   ]
  },
  {
   "cell_type": "markdown",
   "id": "1d8a36a0",
   "metadata": {},
   "source": [
    "#Experiment"
   ]
  },
  {
   "cell_type": "code",
   "execution_count": 15,
   "id": "48ba7a88",
   "metadata": {},
   "outputs": [],
   "source": [
    "import numpy as np\n",
    "from keras.models import Sequential\n",
    "from keras.layers import Dense,Flatten\n",
    "from keras.datasets import cifar10\n",
    "from keras.utils import to_categorical\n",
    "from keras.optimizers import Adam\n",
    "import matplotlib.pyplot as plt"
   ]
  },
  {
   "cell_type": "code",
   "execution_count": 17,
   "id": "92ff3035",
   "metadata": {},
   "outputs": [
    {
     "name": "stdout",
     "output_type": "stream",
     "text": [
      "uint8\n",
      "(50000, 32, 32, 3)\n",
      "(10000, 1)\n",
      "[[[ 59  62  63]\n",
      "  [ 43  46  45]\n",
      "  [ 50  48  43]\n",
      "  ...\n",
      "  [158 132 108]\n",
      "  [152 125 102]\n",
      "  [148 124 103]]\n",
      "\n",
      " [[ 16  20  20]\n",
      "  [  0   0   0]\n",
      "  [ 18   8   0]\n",
      "  ...\n",
      "  [123  88  55]\n",
      "  [119  83  50]\n",
      "  [122  87  57]]\n",
      "\n",
      " [[ 25  24  21]\n",
      "  [ 16   7   0]\n",
      "  [ 49  27   8]\n",
      "  ...\n",
      "  [118  84  50]\n",
      "  [120  84  50]\n",
      "  [109  73  42]]\n",
      "\n",
      " ...\n",
      "\n",
      " [[208 170  96]\n",
      "  [201 153  34]\n",
      "  [198 161  26]\n",
      "  ...\n",
      "  [160 133  70]\n",
      "  [ 56  31   7]\n",
      "  [ 53  34  20]]\n",
      "\n",
      " [[180 139  96]\n",
      "  [173 123  42]\n",
      "  [186 144  30]\n",
      "  ...\n",
      "  [184 148  94]\n",
      "  [ 97  62  34]\n",
      "  [ 83  53  34]]\n",
      "\n",
      " [[177 144 116]\n",
      "  [168 129  94]\n",
      "  [179 142  87]\n",
      "  ...\n",
      "  [216 184 140]\n",
      "  [151 118  84]\n",
      "  [123  92  72]]]\n",
      "**************\n",
      "label is : [6]\n",
      "before:label is:[8]\n",
      "after:label is:[0. 0. 0. 0. 0. 0. 0. 0. 1. 0.]\n"
     ]
    }
   ],
   "source": [
    "\n",
    "(x_train,y_train),(x_test,y_test)=cifar10.load_data()\n",
    "print(x_train.dtype)\n",
    "print(x_train.shape)\n",
    "print(y_test.shape)\n",
    "print(x_train[0])\n",
    "#plt.imshow(x_train[0])\n",
    "#plt.show()\n",
    "print(\"**************\")\n",
    "print(f\"label is : {y_train[0]}\")\n",
    "\n",
    "# normalize\n",
    "x_train=x_train.astype('float32')/255.0\n",
    "x_test=x_test.astype('float32')/255.0\n",
    "\n",
    "#to_categorical\n",
    "print(f\"before:label is:{y_train[100]}\")\n",
    "y_train = to_categorical(y_train)\n",
    "print(f\"after:label is:{y_train[100]}\")\n",
    "y_test=to_categorical(y_test)"
   ]
  },
  {
   "cell_type": "code",
   "execution_count": 26,
   "id": "2875e8bc",
   "metadata": {},
   "outputs": [
    {
     "name": "stdout",
     "output_type": "stream",
     "text": [
      "Epoch 1/10\n",
      "\u001b[1m625/625\u001b[0m \u001b[32m━━━━━━━━━━━━━━━━━━━━\u001b[0m\u001b[37m\u001b[0m \u001b[1m7s\u001b[0m 10ms/step - accuracy: 0.3044 - loss: 1.9484 - val_accuracy: 0.3479 - val_loss: 1.8420\n",
      "Epoch 2/10\n",
      "\u001b[1m625/625\u001b[0m \u001b[32m━━━━━━━━━━━━━━━━━━━━\u001b[0m\u001b[37m\u001b[0m \u001b[1m5s\u001b[0m 8ms/step - accuracy: 0.3715 - loss: 1.7806 - val_accuracy: 0.3852 - val_loss: 1.7521\n",
      "Epoch 3/10\n",
      "\u001b[1m625/625\u001b[0m \u001b[32m━━━━━━━━━━━━━━━━━━━━\u001b[0m\u001b[37m\u001b[0m \u001b[1m5s\u001b[0m 8ms/step - accuracy: 0.3963 - loss: 1.7061 - val_accuracy: 0.3907 - val_loss: 1.7097\n",
      "Epoch 4/10\n",
      "\u001b[1m625/625\u001b[0m \u001b[32m━━━━━━━━━━━━━━━━━━━━\u001b[0m\u001b[37m\u001b[0m \u001b[1m10s\u001b[0m 8ms/step - accuracy: 0.4108 - loss: 1.6599 - val_accuracy: 0.4034 - val_loss: 1.6916\n",
      "Epoch 5/10\n",
      "\u001b[1m625/625\u001b[0m \u001b[32m━━━━━━━━━━━━━━━━━━━━\u001b[0m\u001b[37m\u001b[0m \u001b[1m6s\u001b[0m 9ms/step - accuracy: 0.4182 - loss: 1.6309 - val_accuracy: 0.4182 - val_loss: 1.6362\n",
      "Epoch 6/10\n",
      "\u001b[1m625/625\u001b[0m \u001b[32m━━━━━━━━━━━━━━━━━━━━\u001b[0m\u001b[37m\u001b[0m \u001b[1m5s\u001b[0m 8ms/step - accuracy: 0.4319 - loss: 1.6024 - val_accuracy: 0.4059 - val_loss: 1.6611\n",
      "Epoch 7/10\n",
      "\u001b[1m625/625\u001b[0m \u001b[32m━━━━━━━━━━━━━━━━━━━━\u001b[0m\u001b[37m\u001b[0m \u001b[1m6s\u001b[0m 9ms/step - accuracy: 0.4320 - loss: 1.5891 - val_accuracy: 0.4217 - val_loss: 1.6219\n",
      "Epoch 8/10\n",
      "\u001b[1m625/625\u001b[0m \u001b[32m━━━━━━━━━━━━━━━━━━━━\u001b[0m\u001b[37m\u001b[0m \u001b[1m6s\u001b[0m 9ms/step - accuracy: 0.4390 - loss: 1.5747 - val_accuracy: 0.4195 - val_loss: 1.6278\n",
      "Epoch 9/10\n",
      "\u001b[1m625/625\u001b[0m \u001b[32m━━━━━━━━━━━━━━━━━━━━\u001b[0m\u001b[37m\u001b[0m \u001b[1m5s\u001b[0m 8ms/step - accuracy: 0.4446 - loss: 1.5609 - val_accuracy: 0.4105 - val_loss: 1.6773\n",
      "Epoch 10/10\n",
      "\u001b[1m625/625\u001b[0m \u001b[32m━━━━━━━━━━━━━━━━━━━━\u001b[0m\u001b[37m\u001b[0m \u001b[1m5s\u001b[0m 8ms/step - accuracy: 0.4452 - loss: 1.5559 - val_accuracy: 0.4204 - val_loss: 1.6212\n"
     ]
    }
   ],
   "source": [
    "#architecture\n",
    "model=Sequential()\n",
    "model.add(Flatten(input_shape=(32,32,3)))\n",
    "model.add(Dense(128,activation='relu'))  #128 neurons\n",
    "model.add(Dense(10,'softmax'))\n",
    "\n",
    "#compile the model\n",
    "model.compile(optimizer=Adam(learning_rate=0.001),loss='categorical_crossentropy',metrics=['accuracy'])\n",
    "\n",
    "#train\n",
    "result=model.fit(x_train,y_train,epochs=10,batch_size=64,validation_split=0.2)"
   ]
  },
  {
   "cell_type": "code",
   "execution_count": 29,
   "id": "cc369af7",
   "metadata": {},
   "outputs": [
    {
     "name": "stdout",
     "output_type": "stream",
     "text": [
      "\u001b[1m313/313\u001b[0m \u001b[32m━━━━━━━━━━━━━━━━━━━━\u001b[0m\u001b[37m\u001b[0m \u001b[1m2s\u001b[0m 5ms/step - accuracy: 0.4313 - loss: 1.5914\n",
      "test loss:1.5913828611373901\n",
      "test accuracy:0.43130001425743103\n"
     ]
    }
   ],
   "source": [
    "# evaluate\n",
    "loss,accuracy=model.evaluate(x_test,y_test)\n",
    "print(f\"test loss:{loss}\")\n",
    "print(f\"test accuracy:{accuracy}\")\n"
   ]
  },
  {
   "cell_type": "code",
   "execution_count": 28,
   "id": "e218508b",
   "metadata": {},
   "outputs": [
    {
     "data": {
      "image/png": "[encoded data removed]",
      "text/plain": [
       "<Figure size 640x480 with 1 Axes>"
      ]
     },
     "metadata": {},
     "output_type": "display_data"
    }
   ],
   "source": [
    "#visualization\n",
    "plt.plot(result.history[\"accuracy\"],label=\"Training Accuracy\",color='blue')\n",
    "plt.plot(result.history['loss'],label=\"Training Loss\",color='orange')\n",
    "plt.title(\"Training accuracy vs Val_accuracy\")\n",
    "plt.xlabel(\"Epochs\")\n",
    "plt.ylabel(\"Accuracy\")\n",
    "plt.legend()\n",
    "plt.show()\n"
   ]
  },
  {
   "cell_type": "code",
   "execution_count": null,
   "id": "ee682c30",
   "metadata": {},
   "outputs": [],
   "source": []
  }
 ],
 "metadata": {
  "kernelspec": {
   "display_name": "ai_bootcamp (3.10.11)",
   "language": "python",
   "name": "python3"
  },
  "language_info": {
   "codemirror_mode": {
    "name": "ipython",
    "version": 3
   },
   "file_extension": ".py",
   "mimetype": "text/x-python",
   "name": "python",
   "nbconvert_exporter": "python",
   "pygments_lexer": "ipython3",
   "version": "3.10.11"
  }
 },
 "nbformat": 4,
 "nbformat_minor": 5
}
